{
 "cells": [
  {
   "cell_type": "code",
   "execution_count": 23,
   "metadata": {},
   "outputs": [],
   "source": [
    "import soundfile as sf\n",
    "import numpy as np\n",
    "import random\n",
    "import os\n",
    "from tqdm import tqdm\n",
    "from librosa.feature import melspectrogram"
   ]
  },
  {
   "cell_type": "code",
   "execution_count": 3,
   "metadata": {},
   "outputs": [],
   "source": [
    "import torch\n",
    "from torch.utils.data import DataLoader, Dataset\n",
    "import torch.nn.functional as F\n",
    "import torch.nn as nn\n",
    "import torch.optim as optim\n",
    "from sklearn.model_selection import train_test_split"
   ]
  },
  {
   "cell_type": "code",
   "execution_count": 4,
   "metadata": {},
   "outputs": [],
   "source": [
    "def set_seed(seed):\n",
    "    torch.manual_seed(seed) # cpu vars\n",
    "    torch.cuda.manual_seed(seed)  # gpu vars\n",
    "    torch.backends.cudnn.deterministic = True  # cudnn\n",
    "    np.random.seed(seed)  # numpy\n",
    "    random.seed(seed)  # random and transforms"
   ]
  },
  {
   "cell_type": "code",
   "execution_count": 10,
   "metadata": {},
   "outputs": [
    {
     "data": {
      "text/plain": [
       "{2: 1, 1: 2}"
      ]
     },
     "execution_count": 10,
     "metadata": {},
     "output_type": "execute_result"
    }
   ],
   "source": [
    "class SoundTrainValidDataset(Dataset):\n",
    "    def __init__(self, data_dir, type, segement_length=16000*2):\n",
    "        self.data_dir = data_dir\n",
    "        self.segement_length = segement_length\n",
    "        self.dicktkey = dict()\n",
    "        for dirpath, _, filelist in os.walk(data_dir):\n",
    "            for filename in filelist:\n",
    "                spk, index = filename.split('_')\n",
    "                spk, index = int(spk[3:]), int(index.split('.')[0])\n",
    "                self.dicktkey[index] = spk\n",
    "        train_list, valid_list, _, _ = train_test_split(\n",
    "            list(self.dicktkey.values()), \n",
    "            list(self.dicktkey.keys()), \n",
    "            test_size=0.1)\n",
    "        if type == \"train\":\n",
    "            self.data_list = train_list\n",
    "        else:\n",
    "            self.data_list = valid_list\n",
    "    \n",
    "    def __len__(self):\n",
    "        return len(self.data_list)\n",
    "\n",
    "    def __getitem__(self, index):\n",
    "        index = self.data_list[index]\n",
    "        label = self.dicktkey[index]\n",
    "        filename = os.path.join(\n",
    "            self.data_dir, \n",
    "            \"spk{:03}\".format(label), \n",
    "            \"spk{0:03}_{1:03}.flac\".format(label, index))\n",
    "        data, _ = sf.read(filename)\n",
    "        if len(data) < self.segement_length:\n",
    "            data = np.pad(data, (0, self.segement_length - len(data)), 'constant')  \n",
    "        else:\n",
    "            start = random.randint(0, len(data)-self.segement_length)\n",
    "            data = data[start:start+self.segement_length]\n",
    "        return torch.tensor(data, dtype=torch.float32), torch.tensor(label, dtype=torch.int64)\n",
    "        "
   ]
  },
  {
   "cell_type": "code",
   "execution_count": 25,
   "metadata": {},
   "outputs": [
    {
     "name": "stderr",
     "output_type": "stream",
     "text": [
      "251it [03:22,  1.24it/s]\n",
      "C:\\Users\\GuotongWu\\AppData\\Local\\Temp\\ipykernel_18784\\2688674153.py:15: VisibleDeprecationWarning: Creating an ndarray from ragged nested sequences (which is a list-or-tuple of lists-or-tuples-or ndarrays with different lengths or shapes) is deprecated. If you meant to do this, you must specify 'dtype=object' when creating the ndarray.\n",
      "  return np.array(data)\n"
     ]
    }
   ],
   "source": [
    "def read_data(data_dir, segement_len):\n",
    "    data = []\n",
    "    for dirpath, _, filelist in tqdm(os.walk(data_dir)):\n",
    "        for filename in filelist:\n",
    "            data_dir = os.path.join(dirpath, filename)\n",
    "            x, samplerate = sf.read(data_dir)\n",
    "            if len(x) > segement_len:\n",
    "                start = random.randint(0, len(x)-segement_len)\n",
    "                x = x[start:start+segement_len]\n",
    "            else:\n",
    "                x = np.concatenate((x, np.zeros((segement_len-len(x),))))\n",
    "            x = melspectrogram(y=x, sr=samplerate, n_fft=512, hop_length=160, win_length=400, n_mels=40, fmin=0.0, fmax=8000)\n",
    "            y = int(filename.split(\"_\")[0][-3:])\n",
    "            data.append((x, y))\n",
    "    return np.array(data)\n",
    "\n",
    "data = read_data(\"./train\", 16000*2)"
   ]
  },
  {
   "cell_type": "code",
   "execution_count": 26,
   "metadata": {},
   "outputs": [],
   "source": [
    "class SoundTrainValidDataset(Dataset):\n",
    "    def __init__(self, data, type):\n",
    "        shuffle_indices = np.arange(len(data))\n",
    "        np.random.shuffle(shuffle_indices)\n",
    "        if type == 'train':\n",
    "            indices = shuffle_indices[:len(shuffle_indices)//10*6]\n",
    "        else:\n",
    "            indices = shuffle_indices[len(shuffle_indices)//10*6:]\n",
    "        self.data = np.array(data)[indices]\n",
    "    \n",
    "    def __len__(self):\n",
    "        return len(self.data)\n",
    "\n",
    "    def __getitem__(self, index):\n",
    "        return torch.tensor(self.data[index][0], dtype=torch.float32), torch.tensor(self.data[index][1], dtype=torch.int64)"
   ]
  },
  {
   "cell_type": "code",
   "execution_count": 27,
   "metadata": {},
   "outputs": [
    {
     "data": {
      "text/plain": [
       "torch.Size([512, 40, 201])"
      ]
     },
     "execution_count": 27,
     "metadata": {},
     "output_type": "execute_result"
    }
   ],
   "source": [
    "trainDataset = SoundTrainValidDataset(data=data, type='train')\n",
    "trainDataloader = DataLoader(trainDataset,batch_size=512, shuffle=True)\n",
    "validDataset = SoundTrainValidDataset(data=data, type=\"valid\")\n",
    "validDataloader = DataLoader(validDataset, batch_size=512, shuffle=False)\n",
    "\n",
    "input = list(trainDataloader)[0][0]\n",
    "input.shape\n"
   ]
  },
  {
   "cell_type": "code",
   "execution_count": 28,
   "metadata": {},
   "outputs": [],
   "source": [
    "class VGGVox(nn.Module):\n",
    "    def __init__(self, nOut=251, encoder_type='SAP', log_input=False, **kwargs):\n",
    "        super(VGGVox, self).__init__()\n",
    "\n",
    "        print('Embedding size is %d, encoder %s.'%(nOut, encoder_type))\n",
    "        \n",
    "        self.encoder_type = encoder_type\n",
    "        self.log_input    = log_input\n",
    "\n",
    "        self.netcnn = nn.Sequential(\n",
    "            nn.Conv2d(1, 96, kernel_size=(5,7), stride=(1,2), padding=(2,2)),\n",
    "            nn.BatchNorm2d(96),\n",
    "            nn.ReLU(inplace=True),\n",
    "            nn.MaxPool2d(kernel_size=(1,3), stride=(1,2)),\n",
    "\n",
    "            nn.Conv2d(96, 256, kernel_size=(5,5), stride=(2,2), padding=(1,1)),\n",
    "            nn.BatchNorm2d(256),\n",
    "            nn.ReLU(inplace=True),\n",
    "            nn.MaxPool2d(kernel_size=(3,3), stride=(2,2)),\n",
    "\n",
    "            nn.Conv2d(256, 384, kernel_size=(3,3), padding=(1,1)),\n",
    "            nn.BatchNorm2d(384),\n",
    "            nn.ReLU(inplace=True),\n",
    "\n",
    "            nn.Conv2d(384, 256, kernel_size=(3,3), padding=(1,1)),\n",
    "            nn.BatchNorm2d(256),\n",
    "            nn.ReLU(inplace=True),\n",
    "\n",
    "            nn.Conv2d(256, 256, kernel_size=(3,3), padding=(1,1)),\n",
    "            nn.BatchNorm2d(256),\n",
    "            nn.ReLU(inplace=True),\n",
    "            nn.MaxPool2d(kernel_size=(3,3), stride=(2,2)),\n",
    "\n",
    "            nn.Conv2d(256, 512, kernel_size=(4,1), padding=(0,0)),\n",
    "            nn.BatchNorm2d(512),\n",
    "            nn.ReLU(inplace=True),\n",
    "            \n",
    "        )\n",
    "\n",
    "        if self.encoder_type == \"MAX\":\n",
    "            self.encoder = nn.AdaptiveMaxPool2d((1,1))\n",
    "            out_dim = 512\n",
    "        elif self.encoder_type == \"TAP\":\n",
    "            self.encoder = nn.AdaptiveAvgPool2d((1,1))\n",
    "            out_dim = 512\n",
    "        elif self.encoder_type == \"SAP\":\n",
    "            self.sap_linear = nn.Linear(512, 512)\n",
    "            self.attention = self.new_parameter(512, 1)\n",
    "            out_dim = 512\n",
    "        else:\n",
    "            raise ValueError('Undefined encoder')\n",
    "\n",
    "        self.fc = nn.Linear(out_dim, nOut)\n",
    "\n",
    "        self.instancenorm   = nn.InstanceNorm1d(40)\n",
    "\n",
    "    def new_parameter(self, *size):\n",
    "        out = nn.Parameter(torch.FloatTensor(*size))\n",
    "        nn.init.xavier_normal_(out)\n",
    "        return out\n",
    "        \n",
    "    def forward(self, x):\n",
    "\n",
    "        with torch.no_grad():\n",
    "            x = x + 1e-6\n",
    "            if self.log_input: x = x.log()\n",
    "            x = self.instancenorm(x).unsqueeze(1)\n",
    "\n",
    "        x = self.netcnn(x)\n",
    "\n",
    "        if self.encoder_type == \"MAX\" or self.encoder_type == \"TAP\":\n",
    "            x = self.encoder(x)\n",
    "            x = x.view((x.size()[0], -1))\n",
    "\n",
    "        elif self.encoder_type == \"SAP\":\n",
    "            x = x.permute(0, 2, 1, 3)\n",
    "            x = x.squeeze(dim=1).permute(0, 2, 1)  # batch * L * D\n",
    "            h = torch.tanh(self.sap_linear(x))\n",
    "            w = torch.matmul(h, self.attention).squeeze(dim=2)\n",
    "            w = F.softmax(w, dim=1).view(x.size(0), x.size(1), 1)\n",
    "            x = torch.sum(x * w, dim=1)\n",
    "\n",
    "        x = self.fc(x)\n",
    "        x = nn.Softmax(dim=1)(x)\n",
    "\n",
    "        return x"
   ]
  },
  {
   "cell_type": "code",
   "execution_count": 29,
   "metadata": {},
   "outputs": [],
   "source": [
    "def valid(valid_loader, net, device, criterion):\n",
    "    net.eval()\n",
    "    total_loss = 0\n",
    "    total_acc = 0\n",
    "\n",
    "    for x, y in valid_loader:\n",
    "        x, y = x.to(device), y.to(device)\n",
    "        with torch.no_grad():\n",
    "            pred = net(x)\n",
    "            loss = criterion(pred, y).item()\n",
    "            total_loss += loss * len(x)\n",
    "            total_acc += (pred.argmax(dim=1) == y).to(torch.float32).mean().item() * len(x)\n",
    "\n",
    "    return  total_loss/len(valid_loader.dataset), total_acc/len(valid_loader.dataset)"
   ]
  },
  {
   "cell_type": "code",
   "execution_count": 30,
   "metadata": {},
   "outputs": [
    {
     "name": "stdout",
     "output_type": "stream",
     "text": [
      "0\n",
      "Embedding size is 251, encoder SAP.\n",
      "Saving Model:  0 | 300    0.006040992449563169    5.525187331470214\n",
      "Saving Model:  1 | 300    0.008522114348160796    5.520904631136305\n",
      "Saving Model:  2 | 300    0.011434735708187828    5.519926382268517\n",
      "Saving Model:  3 | 300    0.01197411003316619    5.51928539769935\n",
      "Saving Model:  4 | 300    0.016936353830361444    5.517129631515717\n",
      "Saving Model:  6 | 300    0.01790722761596548    5.514652582022493\n",
      "Saving Model:  9 | 300    0.022761596550415507    5.508265767617004\n",
      "Saving Model:  11 | 300    0.033225458471391835    5.503708481814354\n",
      "Saving Model:  19 | 300    0.03290183387511885    5.500847408558044\n",
      "Saving Model:  24 | 300    0.04261057174000025    5.498359589026327\n",
      "Saving Model:  28 | 300    0.04304207120062593    5.49094253558557\n",
      "Saving Model:  40 | 300    0.04875943907642056    5.487744856343686\n",
      "Saving Model:  63 | 300    0.04875943905552357    5.485125363914712\n",
      "Saving Model:  77 | 300    0.048867313920679986    5.483711199570114\n"
     ]
    }
   ],
   "source": [
    "# os.system('nvidia-smi -q -d Memory | grep -A4 GPU|grep Free >tmp')\n",
    "# memory_gpu = [int(x.split()[2]) for x in open('tmp', 'r').readlines()]\n",
    "# os.system('rm tmp')  \n",
    "\n",
    "# memory_gpu = np.array(memory_gpu)\n",
    "# gpu = np.argmax(memory_gpu)\n",
    "gpu = 0\n",
    "print(gpu)\n",
    "\n",
    "from VGGVox import VGGVox\n",
    "net = VGGVox(nOut=251, encoder_type=\"SAP\", log_input=False).to(gpu)\n",
    "optimizer = optim.Adam(net.parameters(), lr=0.001, weight_decay=5e-4)\n",
    "criterion = nn.CrossEntropyLoss()\n",
    "\n",
    "train_loss = []\n",
    "train_acc = []\n",
    "dev_loss = []\n",
    "dev_acc = []\n",
    "min_loss = 10000\n",
    "early_stop_cnt = 0\n",
    "epoch = 300\n",
    "early_stop = 50\n",
    "\n",
    "for _ in range(epoch):\n",
    "    for x, y in trainDataloader:\n",
    "        net.train()\n",
    "        x, y = x.to(device=gpu), y.to(device=gpu)\n",
    "        pred = net(x)\n",
    "\n",
    "        loss = criterion(pred, y)\n",
    "        optimizer.zero_grad()\n",
    "        loss.backward()\n",
    "        optimizer.step()\n",
    "\n",
    "        train_loss.append(loss.item())\n",
    "        train_acc.append((pred.argmax(dim=1) == y).to(torch.float32).mean().item())\n",
    "    loss, acc = valid(validDataloader, net, gpu, criterion)\n",
    "    dev_loss.append(loss)\n",
    "    dev_acc.append(acc)\n",
    "\n",
    "    if loss < min_loss:\n",
    "        min_loss = loss        \n",
    "        torch.save(net.state_dict(), './saved_model/net.pt')\n",
    "        print('Saving Model: ', _, '|' ,epoch,\"  \" ,acc , '  ', loss)\n",
    "\n",
    "        early_stop_cnt = 0\n",
    "    else:\n",
    "        early_stop_cnt += 1\n",
    "\n",
    "    if early_stop_cnt > early_stop:\n",
    "        break  "
   ]
  },
  {
   "cell_type": "code",
   "execution_count": 31,
   "metadata": {},
   "outputs": [
    {
     "data": {
      "text/plain": [
       "13902"
      ]
     },
     "execution_count": 31,
     "metadata": {},
     "output_type": "execute_result"
    }
   ],
   "source": [
    "len(trainDataloader.dataset)"
   ]
  },
  {
   "cell_type": "code",
   "execution_count": 34,
   "metadata": {},
   "outputs": [
    {
     "data": {
      "text/plain": [
       "[<matplotlib.lines.Line2D at 0x29fb49be100>]"
      ]
     },
     "execution_count": 34,
     "metadata": {},
     "output_type": "execute_result"
    },
    {
     "data": {
      "image/png": "[encoded data removed]",
      "text/plain": [
       "<Figure size 640x480 with 1 Axes>"
      ]
     },
     "metadata": {},
     "output_type": "display_data"
    }
   ],
   "source": [
    "import matplotlib.pyplot as plt\n",
    "plt.plot(range(len(train_loss)), train_loss)"
   ]
  },
  {
   "attachments": {},
   "cell_type": "markdown",
   "metadata": {},
   "source": [
    "### 测试用"
   ]
  },
  {
   "cell_type": "code",
   "execution_count": 4,
   "metadata": {},
   "outputs": [],
   "source": [
    "from dataset import SoundTrainValidDataset\n",
    "from ECAPAModel import ECAPAModel\n",
    "import torch, random\n",
    "import numpy as np\n",
    "from torch.utils.data import DataLoader, Dataset\n",
    "def set_seed(seed):\n",
    "    torch.manual_seed(seed) # cpu vars\n",
    "    torch.cuda.manual_seed(seed)  # gpu vars\n",
    "    torch.backends.cudnn.deterministic = True  # cudnn\n",
    "    np.random.seed(seed)  # numpy\n",
    "    random.seed(seed)  # random and transforms\n",
    "set_seed(0)"
   ]
  },
  {
   "cell_type": "code",
   "execution_count": 5,
   "metadata": {},
   "outputs": [
    {
     "name": "stdout",
     "output_type": "stream",
     "text": [
      "12-27 08:58:22 Model para number = 14.73\n"
     ]
    }
   ],
   "source": [
    "model = ECAPAModel(lr=0.002, lr_decay=0.95, C=1024, n_class=251, m=0.2, s=30, test_step=1)\n",
    "model.load_parameters(\"./saved_model/model_0050.model\")"
   ]
  },
  {
   "cell_type": "code",
   "execution_count": 30,
   "metadata": {},
   "outputs": [
    {
     "name": "stdout",
     "output_type": "stream",
     "text": [
      "Successfully load 1854 data, valid mode\n"
     ]
    }
   ],
   "source": [
    "valid_data = SoundTrainValidDataset(\"./LibriSpeech-SI/train\", \"valid\", segement_length=16000*2+240)\n",
    "valid_loader = DataLoader(dataset=valid_data, batch_size=64, shuffle=False, num_workers=4)"
   ]
  },
  {
   "cell_type": "code",
   "execution_count": 31,
   "metadata": {},
   "outputs": [
    {
     "name": "stdout",
     "output_type": "stream",
     "text": [
      "(tensor(0.0023, device='cuda:0'), tensor([100.], device='cuda:0'))\n",
      "(tensor(0.0125, device='cuda:0'), tensor([100.], device='cuda:0'))\n",
      "(tensor(0.1145, device='cuda:0'), tensor([98.4375], device='cuda:0'))\n",
      "(tensor(0.0346, device='cuda:0'), tensor([98.4375], device='cuda:0'))\n",
      "(tensor(0.0047, device='cuda:0'), tensor([100.], device='cuda:0'))\n",
      "(tensor(0.0054, device='cuda:0'), tensor([100.], device='cuda:0'))\n"
     ]
    },
    {
     "ename": "KeyboardInterrupt",
     "evalue": "",
     "output_type": "error",
     "traceback": [
      "\u001b[0;31m---------------------------------------------------------------------------\u001b[0m",
      "\u001b[0;31mKeyboardInterrupt\u001b[0m                         Traceback (most recent call last)",
      "\u001b[0;32m/tmp/ipykernel_315305/288776166.py\u001b[0m in \u001b[0;36m<module>\u001b[0;34m\u001b[0m\n\u001b[1;32m      3\u001b[0m \u001b[0;32mwith\u001b[0m \u001b[0mtorch\u001b[0m\u001b[0;34m.\u001b[0m\u001b[0mno_grad\u001b[0m\u001b[0;34m(\u001b[0m\u001b[0;34m)\u001b[0m\u001b[0;34m:\u001b[0m\u001b[0;34m\u001b[0m\u001b[0;34m\u001b[0m\u001b[0m\n\u001b[1;32m      4\u001b[0m     \u001b[0;32mfor\u001b[0m \u001b[0mx\u001b[0m\u001b[0;34m,\u001b[0m \u001b[0my\u001b[0m \u001b[0;32min\u001b[0m \u001b[0mvalid_loader\u001b[0m\u001b[0;34m:\u001b[0m\u001b[0;34m\u001b[0m\u001b[0;34m\u001b[0m\u001b[0m\n\u001b[0;32m----> 5\u001b[0;31m         \u001b[0mprint\u001b[0m\u001b[0;34m(\u001b[0m\u001b[0msoftmax\u001b[0m\u001b[0;34m(\u001b[0m\u001b[0mencoder\u001b[0m\u001b[0;34m(\u001b[0m\u001b[0mx\u001b[0m\u001b[0;34m.\u001b[0m\u001b[0mcuda\u001b[0m\u001b[0;34m(\u001b[0m\u001b[0;34m)\u001b[0m\u001b[0;34m,\u001b[0m \u001b[0;32mFalse\u001b[0m\u001b[0;34m)\u001b[0m\u001b[0;34m,\u001b[0m \u001b[0mlabel\u001b[0m\u001b[0;34m=\u001b[0m\u001b[0my\u001b[0m\u001b[0;34m.\u001b[0m\u001b[0mcuda\u001b[0m\u001b[0;34m(\u001b[0m\u001b[0;34m)\u001b[0m\u001b[0;34m)\u001b[0m\u001b[0;34m)\u001b[0m\u001b[0;34m\u001b[0m\u001b[0;34m\u001b[0m\u001b[0m\n\u001b[0m",
      "\u001b[0;32m~/anaconda3/envs/pgmorl/lib/python3.7/site-packages/torch/nn/modules/module.py\u001b[0m in \u001b[0;36m_call_impl\u001b[0;34m(self, *input, **kwargs)\u001b[0m\n\u001b[1;32m   1128\u001b[0m         if not (self._backward_hooks or self._forward_hooks or self._forward_pre_hooks or _global_backward_hooks\n\u001b[1;32m   1129\u001b[0m                 or _global_forward_hooks or _global_forward_pre_hooks):\n\u001b[0;32m-> 1130\u001b[0;31m             \u001b[0;32mreturn\u001b[0m \u001b[0mforward_call\u001b[0m\u001b[0;34m(\u001b[0m\u001b[0;34m*\u001b[0m\u001b[0minput\u001b[0m\u001b[0;34m,\u001b[0m \u001b[0;34m**\u001b[0m\u001b[0mkwargs\u001b[0m\u001b[0;34m)\u001b[0m\u001b[0;34m\u001b[0m\u001b[0;34m\u001b[0m\u001b[0m\n\u001b[0m\u001b[1;32m   1131\u001b[0m         \u001b[0;31m# Do not call functions when jit is used\u001b[0m\u001b[0;34m\u001b[0m\u001b[0;34m\u001b[0m\u001b[0;34m\u001b[0m\u001b[0m\n\u001b[1;32m   1132\u001b[0m         \u001b[0mfull_backward_hooks\u001b[0m\u001b[0;34m,\u001b[0m \u001b[0mnon_full_backward_hooks\u001b[0m \u001b[0;34m=\u001b[0m \u001b[0;34m[\u001b[0m\u001b[0;34m]\u001b[0m\u001b[0;34m,\u001b[0m \u001b[0;34m[\u001b[0m\u001b[0;34m]\u001b[0m\u001b[0;34m\u001b[0m\u001b[0;34m\u001b[0m\u001b[0m\n",
      "\u001b[0;32m~/wgt-pytorch/AAI-Final/model.py\u001b[0m in \u001b[0;36mforward\u001b[0;34m(self, x, aug)\u001b[0m\n\u001b[1;32m    182\u001b[0m         \u001b[0mx1\u001b[0m \u001b[0;34m=\u001b[0m \u001b[0mself\u001b[0m\u001b[0;34m.\u001b[0m\u001b[0mlayer1\u001b[0m\u001b[0;34m(\u001b[0m\u001b[0mx\u001b[0m\u001b[0;34m)\u001b[0m\u001b[0;34m\u001b[0m\u001b[0;34m\u001b[0m\u001b[0m\n\u001b[1;32m    183\u001b[0m         \u001b[0mx2\u001b[0m \u001b[0;34m=\u001b[0m \u001b[0mself\u001b[0m\u001b[0;34m.\u001b[0m\u001b[0mlayer2\u001b[0m\u001b[0;34m(\u001b[0m\u001b[0mx\u001b[0m\u001b[0;34m+\u001b[0m\u001b[0mx1\u001b[0m\u001b[0;34m)\u001b[0m\u001b[0;34m\u001b[0m\u001b[0;34m\u001b[0m\u001b[0m\n\u001b[0;32m--> 184\u001b[0;31m         \u001b[0mx3\u001b[0m \u001b[0;34m=\u001b[0m \u001b[0mself\u001b[0m\u001b[0;34m.\u001b[0m\u001b[0mlayer3\u001b[0m\u001b[0;34m(\u001b[0m\u001b[0mx\u001b[0m\u001b[0;34m+\u001b[0m\u001b[0mx1\u001b[0m\u001b[0;34m+\u001b[0m\u001b[0mx2\u001b[0m\u001b[0;34m)\u001b[0m\u001b[0;34m\u001b[0m\u001b[0;34m\u001b[0m\u001b[0m\n\u001b[0m\u001b[1;32m    185\u001b[0m \u001b[0;34m\u001b[0m\u001b[0m\n\u001b[1;32m    186\u001b[0m         \u001b[0mx\u001b[0m \u001b[0;34m=\u001b[0m \u001b[0mself\u001b[0m\u001b[0;34m.\u001b[0m\u001b[0mlayer4\u001b[0m\u001b[0;34m(\u001b[0m\u001b[0mtorch\u001b[0m\u001b[0;34m.\u001b[0m\u001b[0mcat\u001b[0m\u001b[0;34m(\u001b[0m\u001b[0;34m(\u001b[0m\u001b[0mx1\u001b[0m\u001b[0;34m,\u001b[0m\u001b[0mx2\u001b[0m\u001b[0;34m,\u001b[0m\u001b[0mx3\u001b[0m\u001b[0;34m)\u001b[0m\u001b[0;34m,\u001b[0m\u001b[0mdim\u001b[0m\u001b[0;34m=\u001b[0m\u001b[0;36m1\u001b[0m\u001b[0;34m)\u001b[0m\u001b[0;34m)\u001b[0m\u001b[0;34m\u001b[0m\u001b[0;34m\u001b[0m\u001b[0m\n",
      "\u001b[0;32m~/anaconda3/envs/pgmorl/lib/python3.7/site-packages/torch/nn/modules/module.py\u001b[0m in \u001b[0;36m_call_impl\u001b[0;34m(self, *input, **kwargs)\u001b[0m\n\u001b[1;32m   1128\u001b[0m         if not (self._backward_hooks or self._forward_hooks or self._forward_pre_hooks or _global_backward_hooks\n\u001b[1;32m   1129\u001b[0m                 or _global_forward_hooks or _global_forward_pre_hooks):\n\u001b[0;32m-> 1130\u001b[0;31m             \u001b[0;32mreturn\u001b[0m \u001b[0mforward_call\u001b[0m\u001b[0;34m(\u001b[0m\u001b[0;34m*\u001b[0m\u001b[0minput\u001b[0m\u001b[0;34m,\u001b[0m \u001b[0;34m**\u001b[0m\u001b[0mkwargs\u001b[0m\u001b[0;34m)\u001b[0m\u001b[0;34m\u001b[0m\u001b[0;34m\u001b[0m\u001b[0m\n\u001b[0m\u001b[1;32m   1131\u001b[0m         \u001b[0;31m# Do not call functions when jit is used\u001b[0m\u001b[0;34m\u001b[0m\u001b[0;34m\u001b[0m\u001b[0;34m\u001b[0m\u001b[0m\n\u001b[1;32m   1132\u001b[0m         \u001b[0mfull_backward_hooks\u001b[0m\u001b[0;34m,\u001b[0m \u001b[0mnon_full_backward_hooks\u001b[0m \u001b[0;34m=\u001b[0m \u001b[0;34m[\u001b[0m\u001b[0;34m]\u001b[0m\u001b[0;34m,\u001b[0m \u001b[0;34m[\u001b[0m\u001b[0;34m]\u001b[0m\u001b[0;34m\u001b[0m\u001b[0;34m\u001b[0m\u001b[0m\n",
      "\u001b[0;32m~/wgt-pytorch/AAI-Final/model.py\u001b[0m in \u001b[0;36mforward\u001b[0;34m(self, x)\u001b[0m\n\u001b[1;32m     64\u001b[0m           \u001b[0;32melse\u001b[0m\u001b[0;34m:\u001b[0m\u001b[0;34m\u001b[0m\u001b[0;34m\u001b[0m\u001b[0m\n\u001b[1;32m     65\u001b[0m             \u001b[0msp\u001b[0m \u001b[0;34m=\u001b[0m \u001b[0msp\u001b[0m \u001b[0;34m+\u001b[0m \u001b[0mspx\u001b[0m\u001b[0;34m[\u001b[0m\u001b[0mi\u001b[0m\u001b[0;34m]\u001b[0m\u001b[0;34m\u001b[0m\u001b[0;34m\u001b[0m\u001b[0m\n\u001b[0;32m---> 66\u001b[0;31m           \u001b[0msp\u001b[0m \u001b[0;34m=\u001b[0m \u001b[0mself\u001b[0m\u001b[0;34m.\u001b[0m\u001b[0mconvs\u001b[0m\u001b[0;34m[\u001b[0m\u001b[0mi\u001b[0m\u001b[0;34m]\u001b[0m\u001b[0;34m(\u001b[0m\u001b[0msp\u001b[0m\u001b[0;34m)\u001b[0m\u001b[0;34m\u001b[0m\u001b[0;34m\u001b[0m\u001b[0m\n\u001b[0m\u001b[1;32m     67\u001b[0m           \u001b[0msp\u001b[0m \u001b[0;34m=\u001b[0m \u001b[0mself\u001b[0m\u001b[0;34m.\u001b[0m\u001b[0mrelu\u001b[0m\u001b[0;34m(\u001b[0m\u001b[0msp\u001b[0m\u001b[0;34m)\u001b[0m\u001b[0;34m\u001b[0m\u001b[0;34m\u001b[0m\u001b[0m\n\u001b[1;32m     68\u001b[0m           \u001b[0msp\u001b[0m \u001b[0;34m=\u001b[0m \u001b[0mself\u001b[0m\u001b[0;34m.\u001b[0m\u001b[0mbns\u001b[0m\u001b[0;34m[\u001b[0m\u001b[0mi\u001b[0m\u001b[0;34m]\u001b[0m\u001b[0;34m(\u001b[0m\u001b[0msp\u001b[0m\u001b[0;34m)\u001b[0m\u001b[0;34m\u001b[0m\u001b[0;34m\u001b[0m\u001b[0m\n",
      "\u001b[0;32m~/anaconda3/envs/pgmorl/lib/python3.7/site-packages/torch/nn/modules/module.py\u001b[0m in \u001b[0;36m_call_impl\u001b[0;34m(self, *input, **kwargs)\u001b[0m\n\u001b[1;32m   1128\u001b[0m         if not (self._backward_hooks or self._forward_hooks or self._forward_pre_hooks or _global_backward_hooks\n\u001b[1;32m   1129\u001b[0m                 or _global_forward_hooks or _global_forward_pre_hooks):\n\u001b[0;32m-> 1130\u001b[0;31m             \u001b[0;32mreturn\u001b[0m \u001b[0mforward_call\u001b[0m\u001b[0;34m(\u001b[0m\u001b[0;34m*\u001b[0m\u001b[0minput\u001b[0m\u001b[0;34m,\u001b[0m \u001b[0;34m**\u001b[0m\u001b[0mkwargs\u001b[0m\u001b[0;34m)\u001b[0m\u001b[0;34m\u001b[0m\u001b[0;34m\u001b[0m\u001b[0m\n\u001b[0m\u001b[1;32m   1131\u001b[0m         \u001b[0;31m# Do not call functions when jit is used\u001b[0m\u001b[0;34m\u001b[0m\u001b[0;34m\u001b[0m\u001b[0;34m\u001b[0m\u001b[0m\n\u001b[1;32m   1132\u001b[0m         \u001b[0mfull_backward_hooks\u001b[0m\u001b[0;34m,\u001b[0m \u001b[0mnon_full_backward_hooks\u001b[0m \u001b[0;34m=\u001b[0m \u001b[0;34m[\u001b[0m\u001b[0;34m]\u001b[0m\u001b[0;34m,\u001b[0m \u001b[0;34m[\u001b[0m\u001b[0;34m]\u001b[0m\u001b[0;34m\u001b[0m\u001b[0;34m\u001b[0m\u001b[0m\n",
      "\u001b[0;32m~/anaconda3/envs/pgmorl/lib/python3.7/site-packages/torch/nn/modules/conv.py\u001b[0m in \u001b[0;36mforward\u001b[0;34m(self, input)\u001b[0m\n\u001b[1;32m    305\u001b[0m \u001b[0;34m\u001b[0m\u001b[0m\n\u001b[1;32m    306\u001b[0m     \u001b[0;32mdef\u001b[0m \u001b[0mforward\u001b[0m\u001b[0;34m(\u001b[0m\u001b[0mself\u001b[0m\u001b[0;34m,\u001b[0m \u001b[0minput\u001b[0m\u001b[0;34m:\u001b[0m \u001b[0mTensor\u001b[0m\u001b[0;34m)\u001b[0m \u001b[0;34m->\u001b[0m \u001b[0mTensor\u001b[0m\u001b[0;34m:\u001b[0m\u001b[0;34m\u001b[0m\u001b[0;34m\u001b[0m\u001b[0m\n\u001b[0;32m--> 307\u001b[0;31m         \u001b[0;32mreturn\u001b[0m \u001b[0mself\u001b[0m\u001b[0;34m.\u001b[0m\u001b[0m_conv_forward\u001b[0m\u001b[0;34m(\u001b[0m\u001b[0minput\u001b[0m\u001b[0;34m,\u001b[0m \u001b[0mself\u001b[0m\u001b[0;34m.\u001b[0m\u001b[0mweight\u001b[0m\u001b[0;34m,\u001b[0m \u001b[0mself\u001b[0m\u001b[0;34m.\u001b[0m\u001b[0mbias\u001b[0m\u001b[0;34m)\u001b[0m\u001b[0;34m\u001b[0m\u001b[0;34m\u001b[0m\u001b[0m\n\u001b[0m\u001b[1;32m    308\u001b[0m \u001b[0;34m\u001b[0m\u001b[0m\n\u001b[1;32m    309\u001b[0m \u001b[0;34m\u001b[0m\u001b[0m\n",
      "\u001b[0;32m~/anaconda3/envs/pgmorl/lib/python3.7/site-packages/torch/nn/modules/conv.py\u001b[0m in \u001b[0;36m_conv_forward\u001b[0;34m(self, input, weight, bias)\u001b[0m\n\u001b[1;32m    302\u001b[0m                             _single(0), self.dilation, self.groups)\n\u001b[1;32m    303\u001b[0m         return F.conv1d(input, weight, bias, self.stride,\n\u001b[0;32m--> 304\u001b[0;31m                         self.padding, self.dilation, self.groups)\n\u001b[0m\u001b[1;32m    305\u001b[0m \u001b[0;34m\u001b[0m\u001b[0m\n\u001b[1;32m    306\u001b[0m     \u001b[0;32mdef\u001b[0m \u001b[0mforward\u001b[0m\u001b[0;34m(\u001b[0m\u001b[0mself\u001b[0m\u001b[0;34m,\u001b[0m \u001b[0minput\u001b[0m\u001b[0;34m:\u001b[0m \u001b[0mTensor\u001b[0m\u001b[0;34m)\u001b[0m \u001b[0;34m->\u001b[0m \u001b[0mTensor\u001b[0m\u001b[0;34m:\u001b[0m\u001b[0;34m\u001b[0m\u001b[0;34m\u001b[0m\u001b[0m\n",
      "\u001b[0;31mKeyboardInterrupt\u001b[0m: "
     ]
    }
   ],
   "source": [
    "encoder = model.speaker_encoder\n",
    "softmax = model.speaker_loss\n",
    "with torch.no_grad():\n",
    "    for x, y in valid_loader:\n",
    "        print(softmax(encoder(x.cuda(), False), label=y.cuda()))"
   ]
  },
  {
   "cell_type": "code",
   "execution_count": 32,
   "metadata": {},
   "outputs": [],
   "source": [
    "import soundfile as sf"
   ]
  },
  {
   "cell_type": "code",
   "execution_count": 59,
   "metadata": {},
   "outputs": [],
   "source": [
    "train_sound, _ = sf.read(\"./LibriSpeech-SI/train/spk001/spk001_002.flac\")\n",
    "test_sound, _ = sf.read(\"./LibriSpeech-SI/test/test0001.flac\")\n",
    "nosiy_sound, _ = sf.read(\"./LibriSpeech-SI/test-noisy/test2658.flac\")\n",
    "noisy, _ = sf.read(\"./LibriSpeech-SI/noise/--Lj4Y_96f0.wav\")"
   ]
  },
  {
   "cell_type": "code",
   "execution_count": 60,
   "metadata": {},
   "outputs": [],
   "source": [
    "import matplotlib.pyplot as plt\n",
    "%matplotlib inline"
   ]
  },
  {
   "cell_type": "code",
   "execution_count": 61,
   "metadata": {},
   "outputs": [
    {
     "data": {
      "text/plain": [
       "[<matplotlib.lines.Line2D at 0x7f4bee575550>]"
      ]
     },
     "execution_count": 61,
     "metadata": {},
     "output_type": "execute_result"
    },
    {
     "data": {
      "image/png": "[encoded data removed]",
      "text/plain": [
       "<Figure size 640x480 with 1 Axes>"
      ]
     },
     "metadata": {},
     "output_type": "display_data"
    }
   ],
   "source": [
    "plt.plot(range(len(train_sound)), train_sound)"
   ]
  },
  {
   "cell_type": "code",
   "execution_count": 62,
   "metadata": {},
   "outputs": [
    {
     "data": {
      "text/plain": [
       "array([-0.00766414, -0.00536007, -0.00128341, ..., -0.02242571,\n",
       "       -0.01442051, -0.01585472])"
      ]
     },
     "execution_count": 62,
     "metadata": {},
     "output_type": "execute_result"
    }
   ],
   "source": [
    "noisy"
   ]
  },
  {
   "cell_type": "code",
   "execution_count": 63,
   "metadata": {},
   "outputs": [],
   "source": [
    "def signal_power(signal):\n",
    "    return np.sum(np.power(signal, 2)) / len(signal)"
   ]
  },
  {
   "cell_type": "code",
   "execution_count": 64,
   "metadata": {},
   "outputs": [
    {
     "data": {
      "text/plain": [
       "0.0006038202238769705"
      ]
     },
     "execution_count": 64,
     "metadata": {},
     "output_type": "execute_result"
    }
   ],
   "source": [
    "signal_power(noisy)"
   ]
  },
  {
   "cell_type": "code",
   "execution_count": null,
   "metadata": {},
   "outputs": [],
   "source": []
  }
 ],
 "metadata": {
  "kernelspec": {
   "display_name": "pgmorl",
   "language": "python",
   "name": "python3"
  },
  "language_info": {
   "codemirror_mode": {
    "name": "ipython",
    "version": 3
   },
   "file_extension": ".py",
   "mimetype": "text/x-python",
   "name": "python",
   "nbconvert_exporter": "python",
   "pygments_lexer": "ipython3",
   "version": "3.7.6 (default, Jan  8 2020, 19:59:22) \n[GCC 7.3.0]"
  },
  "orig_nbformat": 4,
  "vscode": {
   "interpreter": {
    "hash": "61559d286aa5b62e9ca3ad0547bf20be19633e12b6acecd2bdcfdca89efb0193"
   }
  }
 },
 "nbformat": 4,
 "nbformat_minor": 2
}
